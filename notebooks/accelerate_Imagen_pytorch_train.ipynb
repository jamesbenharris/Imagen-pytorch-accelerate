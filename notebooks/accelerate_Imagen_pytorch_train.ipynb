{
  "nbformat": 4,
  "nbformat_minor": 0,
  "metadata": {
    "colab": {
      "name": "accelerate-Imagen_pytorch_train.ipynb",
      "provenance": [],
      "machine_shape": "hm",
      "collapsed_sections": []
    },
    "kernelspec": {
      "name": "python3",
      "display_name": "Python 3"
    },
    "language_info": {
      "name": "python"
    },
    "accelerator": "GPU"
  },
  "cells": [
    {
      "cell_type": "code",
      "source": [
        "!nvidia-smi"
      ],
      "metadata": {
        "colab": {
          "base_uri": "https://localhost:8080/"
        },
        "id": "rHAflrRRO92h",
        "outputId": "a502d61c-cbbd-4ec6-9e2c-82ba83c7b8da"
      },
      "execution_count": 1,
      "outputs": [
        {
          "output_type": "stream",
          "name": "stdout",
          "text": [
            "Tue May 24 21:25:42 2022       \n",
            "+-----------------------------------------------------------------------------+\n",
            "| NVIDIA-SMI 460.32.03    Driver Version: 460.32.03    CUDA Version: 11.2     |\n",
            "|-------------------------------+----------------------+----------------------+\n",
            "| GPU  Name        Persistence-M| Bus-Id        Disp.A | Volatile Uncorr. ECC |\n",
            "| Fan  Temp  Perf  Pwr:Usage/Cap|         Memory-Usage | GPU-Util  Compute M. |\n",
            "|                               |                      |               MIG M. |\n",
            "|===============================+======================+======================|\n",
            "|   0  Tesla P100-PCIE...  Off  | 00000000:00:04.0 Off |                    0 |\n",
            "| N/A   46C    P0    28W / 250W |      0MiB / 16280MiB |      0%      Default |\n",
            "|                               |                      |                  N/A |\n",
            "+-------------------------------+----------------------+----------------------+\n",
            "                                                                               \n",
            "+-----------------------------------------------------------------------------+\n",
            "| Processes:                                                                  |\n",
            "|  GPU   GI   CI        PID   Type   Process name                  GPU Memory |\n",
            "|        ID   ID                                                   Usage      |\n",
            "|=============================================================================|\n",
            "|  No running processes found                                                 |\n",
            "+-----------------------------------------------------------------------------+\n"
          ]
        }
      ]
    },
    {
      "cell_type": "code",
      "execution_count": 14,
      "metadata": {
        "id": "1kLzhUw-Dn84",
        "colab": {
          "base_uri": "https://localhost:8080/",
          "height": 763
        },
        "outputId": "5bc12828-30c6-4e49-cc97-e77a9e77e65f"
      },
      "outputs": [
        {
          "output_type": "stream",
          "name": "stdout",
          "text": [
            "Looking in indexes: https://pypi.org/simple, https://us-python.pkg.dev/colab-wheels/public/simple/\n",
            "Collecting git+https://github.com/cene555/Imagen-pytorch-accelerate.git\n",
            "  Cloning https://github.com/cene555/Imagen-pytorch-accelerate.git to /tmp/pip-req-build-qprjjzls\n",
            "  Running command git clone -q https://github.com/cene555/Imagen-pytorch-accelerate.git /tmp/pip-req-build-qprjjzls\n",
            "Requirement already satisfied: Pillow in /usr/local/lib/python3.7/dist-packages (from imagen-pytorch==0.0.0) (7.1.2)\n",
            "Requirement already satisfied: attrs in /usr/local/lib/python3.7/dist-packages (from imagen-pytorch==0.0.0) (21.4.0)\n",
            "Requirement already satisfied: torch in /usr/local/lib/python3.7/dist-packages (from imagen-pytorch==0.0.0) (1.11.0+cu113)\n",
            "Requirement already satisfied: filelock in /usr/local/lib/python3.7/dist-packages (from imagen-pytorch==0.0.0) (3.7.0)\n",
            "Requirement already satisfied: requests in /usr/local/lib/python3.7/dist-packages (from imagen-pytorch==0.0.0) (2.23.0)\n",
            "Requirement already satisfied: tqdm in /usr/local/lib/python3.7/dist-packages (from imagen-pytorch==0.0.0) (4.64.0)\n",
            "Requirement already satisfied: ftfy in /usr/local/lib/python3.7/dist-packages (from imagen-pytorch==0.0.0) (6.1.1)\n",
            "Requirement already satisfied: regex in /usr/local/lib/python3.7/dist-packages (from imagen-pytorch==0.0.0) (2019.12.20)\n",
            "Requirement already satisfied: numpy in /usr/local/lib/python3.7/dist-packages (from imagen-pytorch==0.0.0) (1.21.6)\n",
            "Requirement already satisfied: blobfile in /usr/local/lib/python3.7/dist-packages (from imagen-pytorch==0.0.0) (1.3.1)\n",
            "Requirement already satisfied: accelerate in /usr/local/lib/python3.7/dist-packages (from imagen-pytorch==0.0.0) (0.9.0)\n",
            "Requirement already satisfied: transformers in /usr/local/lib/python3.7/dist-packages (from imagen-pytorch==0.0.0) (4.19.2)\n",
            "Requirement already satisfied: pyyaml in /usr/local/lib/python3.7/dist-packages (from accelerate->imagen-pytorch==0.0.0) (6.0)\n",
            "Requirement already satisfied: typing-extensions in /usr/local/lib/python3.7/dist-packages (from torch->imagen-pytorch==0.0.0) (4.2.0)\n",
            "Requirement already satisfied: pycryptodomex~=3.8 in /usr/local/lib/python3.7/dist-packages (from blobfile->imagen-pytorch==0.0.0) (3.14.1)\n",
            "Requirement already satisfied: xmltodict~=0.12.0 in /usr/local/lib/python3.7/dist-packages (from blobfile->imagen-pytorch==0.0.0) (0.12.0)\n",
            "Requirement already satisfied: urllib3~=1.25 in /usr/local/lib/python3.7/dist-packages (from blobfile->imagen-pytorch==0.0.0) (1.25.11)\n",
            "Requirement already satisfied: wcwidth>=0.2.5 in /usr/local/lib/python3.7/dist-packages (from ftfy->imagen-pytorch==0.0.0) (0.2.5)\n",
            "Requirement already satisfied: chardet<4,>=3.0.2 in /usr/local/lib/python3.7/dist-packages (from requests->imagen-pytorch==0.0.0) (3.0.4)\n",
            "Requirement already satisfied: certifi>=2017.4.17 in /usr/local/lib/python3.7/dist-packages (from requests->imagen-pytorch==0.0.0) (2022.5.18.1)\n",
            "Requirement already satisfied: idna<3,>=2.5 in /usr/local/lib/python3.7/dist-packages (from requests->imagen-pytorch==0.0.0) (2.10)\n",
            "Requirement already satisfied: huggingface-hub<1.0,>=0.1.0 in /usr/local/lib/python3.7/dist-packages (from transformers->imagen-pytorch==0.0.0) (0.6.0)\n",
            "Requirement already satisfied: importlib-metadata in /usr/local/lib/python3.7/dist-packages (from transformers->imagen-pytorch==0.0.0) (4.11.3)\n",
            "Requirement already satisfied: tokenizers!=0.11.3,<0.13,>=0.11.1 in /usr/local/lib/python3.7/dist-packages (from transformers->imagen-pytorch==0.0.0) (0.12.1)\n",
            "Requirement already satisfied: packaging>=20.0 in /usr/local/lib/python3.7/dist-packages (from transformers->imagen-pytorch==0.0.0) (21.3)\n",
            "Requirement already satisfied: pyparsing!=3.0.5,>=2.0.2 in /usr/local/lib/python3.7/dist-packages (from packaging>=20.0->transformers->imagen-pytorch==0.0.0) (3.0.9)\n",
            "Requirement already satisfied: zipp>=0.5 in /usr/local/lib/python3.7/dist-packages (from importlib-metadata->transformers->imagen-pytorch==0.0.0) (3.8.0)\n",
            "Building wheels for collected packages: imagen-pytorch\n",
            "  Building wheel for imagen-pytorch (setup.py) ... \u001b[?25l\u001b[?25hdone\n",
            "  Created wheel for imagen-pytorch: filename=imagen_pytorch-0.0.0-py3-none-any.whl size=1967219 sha256=0ff62a931705ac4a7652efc421d91e6c3dd0f00e7b084423adc3f41586cc89d8\n",
            "  Stored in directory: /tmp/pip-ephem-wheel-cache-hevyenz1/wheels/28/7b/f9/33e9437c65146ad77a7c1319a206e587ac3e4bc243a2ff7f5f\n",
            "Successfully built imagen-pytorch\n",
            "Installing collected packages: imagen-pytorch\n",
            "Successfully installed imagen-pytorch-0.0.0\n"
          ]
        },
        {
          "output_type": "display_data",
          "data": {
            "application/vnd.colab-display-data+json": {
              "pip_warning": {
                "packages": [
                  "imagen_pytorch"
                ]
              }
            }
          },
          "metadata": {}
        }
      ],
      "source": [
        "!pip install git+https://github.com/cene555/Imagen-pytorch-accelerate.git"
      ]
    },
    {
      "cell_type": "code",
      "source": [
        "from google.colab import drive\n",
        "drive.mount('/content/drive')"
      ],
      "metadata": {
        "colab": {
          "base_uri": "https://localhost:8080/"
        },
        "id": "uCsIR6CVqRiu",
        "outputId": "9d9499ef-c393-4080-93a5-87086abc793b"
      },
      "execution_count": 3,
      "outputs": [
        {
          "output_type": "stream",
          "name": "stdout",
          "text": [
            "Mounted at /content/drive\n"
          ]
        }
      ]
    },
    {
      "cell_type": "code",
      "source": [
        "%%capture\n",
        "!git lfs install\n",
        "!git clone https://huggingface.co/Cene655/Imagen-pytorch"
      ],
      "metadata": {
        "id": "bIIsIpa6qbZL"
      },
      "execution_count": 4,
      "outputs": []
    },
    {
      "cell_type": "code",
      "source": [
        "%%capture\n",
        "!unzip /content/drive/MyDrive/train2014.zip\n",
        "!unzip /content/drive/MyDrive/annotations_trainval2014.zip"
      ],
      "metadata": {
        "id": "U2-DdZuf3-2H"
      },
      "execution_count": 5,
      "outputs": []
    },
    {
      "cell_type": "code",
      "source": [
        "!pip uninstall imagen_pytorch --y"
      ],
      "metadata": {
        "colab": {
          "base_uri": "https://localhost:8080/"
        },
        "id": "0-1t6iE-rz8q",
        "outputId": "871571a5-e06d-432d-b2d7-78786c351e08"
      },
      "execution_count": 13,
      "outputs": [
        {
          "output_type": "stream",
          "name": "stdout",
          "text": [
            "Found existing installation: imagen-pytorch 0.0.0\n",
            "Uninstalling imagen-pytorch-0.0.0:\n",
            "  Successfully uninstalled imagen-pytorch-0.0.0\n"
          ]
        }
      ]
    },
    {
      "cell_type": "code",
      "source": [
        "from PIL import Image\n",
        "from IPython.display import display\n",
        "import torch as th\n",
        "import pandas as pd\n",
        "from imagen_pytorch.download import load_checkpoint\n",
        "from imagen_pytorch.model_creation import (\n",
        "    create_model_and_diffusion,\n",
        "    model_and_diffusion_defaults,\n",
        ")\n",
        "from imagen_pytorch.resample import create_named_schedule_sampler\n",
        "\n",
        "from imagen_pytorch import logger\n",
        "from imagen_pytorch.dataset import get_loader\n",
        "from imagen_pytorch.train_utils import TrainLoop\n",
        "\n",
        "has_cuda = th.cuda.is_available()\n",
        "device = th.device('cpu' if not has_cuda else 'cuda')"
      ],
      "metadata": {
        "id": "Lrf1Q0fxF84G"
      },
      "execution_count": 1,
      "outputs": []
    },
    {
      "cell_type": "code",
      "source": [
        "options = model_and_diffusion_defaults()\n",
        "options['use_fp16'] = False\n",
        "options['t5_name'] = 't5-large'\n",
        "model, diffusion = create_model_and_diffusion(**options)\n",
        "model.eval()\n",
        "#if has_cuda:\n",
        "#    model.convert_to_fp16()\n",
        "model.to(device)\n",
        "#model.load_state_dict(load_checkpoint('base', device), strict=False)\n",
        "model.load_state_dict(th.load('/content/Imagen-pytorch/imagen-pytorch.pt'))\n",
        "\n",
        "print('total base parameters', sum(x.numel() for x in model.parameters()))"
      ],
      "metadata": {
        "id": "zzuC3lkBXJOC"
      },
      "execution_count": null,
      "outputs": []
    },
    {
      "cell_type": "code",
      "source": [
        "def get_images_id(images_list):\n",
        "    images_dict = {}\n",
        "    for i in images_list:\n",
        "        images_dict[i['id']] = i['file_name']\n",
        "    return images_dict"
      ],
      "metadata": {
        "id": "m_BHX0JolxlX"
      },
      "execution_count": 3,
      "outputs": []
    },
    {
      "cell_type": "code",
      "source": [
        "import json\n",
        "\n",
        "with open('/content/annotations/captions_train2014.json') as json_file:\n",
        "    data = json.load(json_file)"
      ],
      "metadata": {
        "id": "NInRIuGYAW7P"
      },
      "execution_count": 4,
      "outputs": []
    },
    {
      "cell_type": "code",
      "source": [
        "images_dict = get_images_id(data['images'])"
      ],
      "metadata": {
        "id": "0UvlwE4vl3Uq"
      },
      "execution_count": 5,
      "outputs": []
    },
    {
      "cell_type": "code",
      "source": [
        "df = []\n",
        "for annotation in data['annotations']:\n",
        "    df.append([images_dict[annotation['image_id']], annotation['caption']])"
      ],
      "metadata": {
        "id": "0-4fc0nBndaw"
      },
      "execution_count": 6,
      "outputs": []
    },
    {
      "cell_type": "code",
      "source": [
        "df = pd.DataFrame(df)\n",
        "df.columns = ['path', 'text']"
      ],
      "metadata": {
        "id": "xP6yK679oAUK"
      },
      "execution_count": 7,
      "outputs": []
    },
    {
      "cell_type": "code",
      "source": [
        "data = get_loader(batch_size=4,\n",
        "                  resolution=64,\n",
        "                   image_dir='/content/train2014',\n",
        "                   df=df,\n",
        "                   tokenizer_name='t5-large', \n",
        "                   max_len=128,\n",
        "                   zero_text_prob=0.1,\n",
        "                   shuffle=True)"
      ],
      "metadata": {
        "id": "wKQowgyfnghV"
      },
      "execution_count": null,
      "outputs": []
    },
    {
      "cell_type": "code",
      "source": [
        "#a, b = next(data)"
      ],
      "metadata": {
        "id": "KQJJ-p86uavz"
      },
      "execution_count": 9,
      "outputs": []
    },
    {
      "cell_type": "code",
      "source": [
        "logger.configure()\n",
        "\n",
        "logger.log(\"creating model and diffusion...\")"
      ],
      "metadata": {
        "id": "2gPkvOvlwcIJ",
        "colab": {
          "base_uri": "https://localhost:8080/"
        },
        "outputId": "f8882a0d-feed-430a-f4c2-d8fddf8b661b"
      },
      "execution_count": 10,
      "outputs": [
        {
          "output_type": "stream",
          "name": "stdout",
          "text": [
            "Logging to /tmp/openai-2022-05-24-21-41-28-264075\n",
            "creating model and diffusion...\n"
          ]
        }
      ]
    },
    {
      "cell_type": "code",
      "source": [
        "schedule_sampler = create_named_schedule_sampler('uniform', diffusion)"
      ],
      "metadata": {
        "id": "CGImryV_wm1Q"
      },
      "execution_count": 11,
      "outputs": []
    },
    {
      "cell_type": "code",
      "source": [
        "TrainLoop(\n",
        "        model=model,\n",
        "        diffusion=diffusion,\n",
        "        data=data,\n",
        "        batch_size=4,\n",
        "        microbatch=-1,\n",
        "        lr=1e-4,\n",
        "        ema_rate=\"0.9999\",\n",
        "        log_interval=100,\n",
        "        save_interval=10000,\n",
        "        resume_checkpoint=False,\n",
        "        use_fp16=False,\n",
        "        fp16_scale_growth=1e-3,\n",
        "        schedule_sampler=schedule_sampler,\n",
        "        weight_decay=0.01,\n",
        "        lr_anneal_steps=0,\n",
        "        save_dir='/content/',\n",
        ").run_loop()"
      ],
      "metadata": {
        "id": "sdbHT76pqfXE",
        "colab": {
          "base_uri": "https://localhost:8080/"
        },
        "outputId": "ae3199a8-b3ad-4797-a465-d91afe1c9387"
      },
      "execution_count": null,
      "outputs": [
        {
          "output_type": "stream",
          "name": "stdout",
          "text": [
            "------------------------\n",
            "| grad_norm | 0.0217   |\n",
            "| loss      | 0.0207   |\n",
            "| loss_q0   | 0.0646   |\n",
            "| loss_q1   | 0.0136   |\n",
            "| loss_q2   | 0.00235  |\n",
            "| mse       | 0.0191   |\n",
            "| mse_q0    | 0.0625   |\n",
            "| mse_q1    | 0.0124   |\n",
            "| mse_q2    | 0.000708 |\n",
            "| samples   | 4        |\n",
            "| step      | 0        |\n",
            "| vb        | 0.00162  |\n",
            "| vb_q0     | 0.00203  |\n",
            "| vb_q1     | 0.00118  |\n",
            "| vb_q2     | 0.00164  |\n",
            "------------------------\n",
            "------------------------\n",
            "| grad_norm | 0.038    |\n",
            "| loss      | 0.0246   |\n",
            "| loss_q0   | 0.079    |\n",
            "| loss_q1   | 0.0161   |\n",
            "| loss_q2   | 0.00427  |\n",
            "| loss_q3   | 0.00224  |\n",
            "| mse       | 0.0218   |\n",
            "| mse_q0    | 0.0721   |\n",
            "| mse_q1    | 0.0149   |\n",
            "| mse_q2    | 0.00282  |\n",
            "| mse_q3    | 0.000278 |\n",
            "| samples   | 404      |\n",
            "| step      | 100      |\n",
            "| vb        | 0.0028   |\n",
            "| vb_q0     | 0.00689  |\n",
            "| vb_q1     | 0.00121  |\n",
            "| vb_q2     | 0.00145  |\n",
            "| vb_q3     | 0.00196  |\n",
            "------------------------\n",
            "------------------------\n",
            "| grad_norm | 0.0361   |\n",
            "| loss      | 0.0215   |\n",
            "| loss_q0   | 0.0704   |\n",
            "| loss_q1   | 0.0158   |\n",
            "| loss_q2   | 0.00404  |\n",
            "| loss_q3   | 0.00222  |\n",
            "| mse       | 0.0194   |\n",
            "| mse_q0    | 0.0662   |\n",
            "| mse_q1    | 0.0146   |\n",
            "| mse_q2    | 0.00257  |\n",
            "| mse_q3    | 0.000286 |\n",
            "| samples   | 804      |\n",
            "| step      | 200      |\n",
            "| vb        | 0.00219  |\n",
            "| vb_q0     | 0.00423  |\n",
            "| vb_q1     | 0.0012   |\n",
            "| vb_q2     | 0.00148  |\n",
            "| vb_q3     | 0.00193  |\n",
            "------------------------\n",
            "------------------------\n",
            "| grad_norm | 0.0406   |\n",
            "| loss      | 0.0321   |\n",
            "| loss_q0   | 0.116    |\n",
            "| loss_q1   | 0.0159   |\n",
            "| loss_q2   | 0.00422  |\n",
            "| loss_q3   | 0.00221  |\n",
            "| mse       | 0.0237   |\n",
            "| mse_q0    | 0.0839   |\n",
            "| mse_q1    | 0.0147   |\n",
            "| mse_q2    | 0.00281  |\n",
            "| mse_q3    | 0.000269 |\n",
            "| samples   | 1.2e+03  |\n",
            "| step      | 300      |\n",
            "| vb        | 0.00832  |\n",
            "| vb_q0     | 0.0322   |\n",
            "| vb_q1     | 0.0012   |\n",
            "| vb_q2     | 0.00141  |\n",
            "| vb_q3     | 0.00194  |\n",
            "------------------------\n",
            "------------------------\n",
            "| grad_norm | 0.0414   |\n",
            "| loss      | 0.0241   |\n",
            "| loss_q0   | 0.0797   |\n",
            "| loss_q1   | 0.0171   |\n",
            "| loss_q2   | 0.00422  |\n",
            "| loss_q3   | 0.00224  |\n",
            "| mse       | 0.0218   |\n",
            "| mse_q0    | 0.0747   |\n",
            "| mse_q1    | 0.0159   |\n",
            "| mse_q2    | 0.00278  |\n",
            "| mse_q3    | 0.000315 |\n",
            "| samples   | 1.6e+03  |\n",
            "| step      | 400      |\n",
            "| vb        | 0.00228  |\n",
            "| vb_q0     | 0.00508  |\n",
            "| vb_q1     | 0.00119  |\n",
            "| vb_q2     | 0.00143  |\n",
            "| vb_q3     | 0.00193  |\n",
            "------------------------\n",
            "------------------------\n",
            "| grad_norm | 0.0411   |\n",
            "| loss      | 0.0278   |\n",
            "| loss_q0   | 0.0874   |\n",
            "| loss_q1   | 0.0157   |\n",
            "| loss_q2   | 0.0041   |\n",
            "| loss_q3   | 0.00222  |\n",
            "| mse       | 0.0248   |\n",
            "| mse_q0    | 0.0802   |\n",
            "| mse_q1    | 0.0145   |\n",
            "| mse_q2    | 0.00263  |\n",
            "| mse_q3    | 0.000299 |\n",
            "| samples   | 2e+03    |\n",
            "| step      | 500      |\n",
            "| vb        | 0.00296  |\n",
            "| vb_q0     | 0.0072   |\n",
            "| vb_q1     | 0.00119  |\n",
            "| vb_q2     | 0.00147  |\n",
            "| vb_q3     | 0.00192  |\n",
            "------------------------\n",
            "------------------------\n",
            "| grad_norm | 0.0425   |\n",
            "| loss      | 0.0367   |\n",
            "| loss_q0   | 0.132    |\n",
            "| loss_q1   | 0.0157   |\n",
            "| loss_q2   | 0.00429  |\n",
            "| loss_q3   | 0.00222  |\n",
            "| mse       | 0.0281   |\n",
            "| mse_q0    | 0.101    |\n",
            "| mse_q1    | 0.0145   |\n",
            "| mse_q2    | 0.00285  |\n",
            "| mse_q3    | 0.000267 |\n",
            "| samples   | 2.4e+03  |\n",
            "| step      | 600      |\n",
            "| vb        | 0.00856  |\n",
            "| vb_q0     | 0.0311   |\n",
            "| vb_q1     | 0.00119  |\n",
            "| vb_q2     | 0.00144  |\n",
            "| vb_q3     | 0.00195  |\n",
            "------------------------\n",
            "------------------------\n",
            "| grad_norm | 0.0434   |\n",
            "| loss      | 0.0316   |\n",
            "| loss_q0   | 0.0975   |\n",
            "| loss_q1   | 0.0156   |\n",
            "| loss_q2   | 0.0044   |\n",
            "| loss_q3   | 0.00222  |\n",
            "| mse       | 0.0287   |\n",
            "| mse_q0    | 0.0907   |\n",
            "| mse_q1    | 0.0144   |\n",
            "| mse_q2    | 0.00296  |\n",
            "| mse_q3    | 0.00031  |\n",
            "| samples   | 2.8e+03  |\n",
            "| step      | 700      |\n",
            "| vb        | 0.00293  |\n",
            "| vb_q0     | 0.00674  |\n",
            "| vb_q1     | 0.00119  |\n",
            "| vb_q2     | 0.00143  |\n",
            "| vb_q3     | 0.00191  |\n",
            "------------------------\n",
            "------------------------\n",
            "| grad_norm | 0.0432   |\n",
            "| loss      | 0.0347   |\n",
            "| loss_q0   | 0.126    |\n",
            "| loss_q1   | 0.0145   |\n",
            "| loss_q2   | 0.00436  |\n",
            "| loss_q3   | 0.00222  |\n",
            "| mse       | 0.0303   |\n",
            "| mse_q0    | 0.112    |\n",
            "| mse_q1    | 0.0133   |\n",
            "| mse_q2    | 0.00294  |\n",
            "| mse_q3    | 0.00029  |\n",
            "| samples   | 3.2e+03  |\n",
            "| step      | 800      |\n",
            "| vb        | 0.00441  |\n",
            "| vb_q0     | 0.0142   |\n",
            "| vb_q1     | 0.00118  |\n",
            "| vb_q2     | 0.00142  |\n",
            "| vb_q3     | 0.00193  |\n",
            "------------------------\n"
          ]
        }
      ]
    },
    {
      "cell_type": "code",
      "source": [
        "th.save(model.state_dict(), 'imagen_new.pt')"
      ],
      "metadata": {
        "id": "OnuDncAQNH1s"
      },
      "execution_count": null,
      "outputs": []
    },
    {
      "cell_type": "code",
      "source": [
        "while 1:\n",
        "    pass"
      ],
      "metadata": {
        "id": "kw8sYkwzB-SN"
      },
      "execution_count": null,
      "outputs": []
    }
  ]
}